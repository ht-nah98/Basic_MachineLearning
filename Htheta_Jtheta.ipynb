{
 "cells": [
  {
   "cell_type": "code",
   "execution_count": 28,
   "metadata": {},
   "outputs": [],
   "source": [
    "import numpy as np  \n",
    "import matplotlib.pyplot as plt\n",
    "\n",
    "def predict(X,Theta):\n",
    "    # Nhân 2 matrix\n",
    "    return X@Theta\n",
    "\n",
    "\n",
    "def computeCost(X,y,Theta):\n",
    "    predicted = predict(X,Theta)\n",
    "    # sai số\n",
    "    sqr_error = (predicted - y) ** 2\n",
    "    sum_error = np.sum(sqr_error)\n",
    "    m = np.size(y)\n",
    "    Jtheta = (1/(2*m)) * sum_error\n",
    "    return Jtheta\n",
    "\n",
    "\n",
    "def computeCost_Vec(X,y,Theta):\n",
    "    error = predict(X,Theta) - y\n",
    "    m = np.size(y)\n",
    "    Jtheta = (1/(2*m))*np.transpose(error)@error\n",
    "    return Jtheta"
   ]
  },
  {
   "cell_type": "markdown",
   "metadata": {},
   "source": [
    "# Gradient Descent --- Jtheta min"
   ]
  },
  {
   "cell_type": "code",
   "execution_count": 29,
   "metadata": {},
   "outputs": [
    {
     "name": "stdout",
     "output_type": "stream",
     "text": [
      "Reach optima at I = 4068 ; J = 4.476971\n"
     ]
    },
    {
     "data": {
      "image/png": "[encoded data removed]",
      "text/plain": [
       "<Figure size 432x288 with 1 Axes>"
      ]
     },
     "metadata": {
      "needs_background": "light"
     },
     "output_type": "display_data"
    },
    {
     "data": {
      "image/png": "[encoded data removed]",
      "text/plain": [
       "<Figure size 432x288 with 1 Axes>"
      ]
     },
     "metadata": {
      "needs_background": "light"
     },
     "output_type": "display_data"
    }
   ],
   "source": [
    "\n",
    "\n",
    "def GradientDescent(X,y,alpha=0.02,iter=5000): #giá trị mặc định của alpha là 0.02, iter (số vòng lặp tối đa) là 5000\n",
    "    #Giá trị ban đầu của theta = 0\n",
    "    theta = np.zeros(np.size(X,1)) #số lượng theta bằng số cột của X\n",
    "    #array lưu lại các giá trị J trong quá trình lặp\n",
    "    J_hist = np.zeros((iter,2)) # kích thước là iter*2, cột đầu chỉ là các số từ 1 đến iter để tiện cho việc plot. Kích thước được truyền vào qua một tupple\n",
    "    #kích thước của training set\n",
    "    m = np.size(y)\n",
    "    #ma trận ngược (đảo hàng và cột) của X\n",
    "    X_T = np.transpose(X)\n",
    "    #biến tạm để kiểm tra tiến độ Gradient Descent\n",
    "    pre_cost = computeCost(X,y,theta)\n",
    "    for i in range(0,iter):\n",
    "        error = predict(X,theta) - y\n",
    "        #thực hiện gradient descent để thay đổi theta\n",
    "        theta = theta - (alpha/m)*(X_T @ error)\n",
    "        #tính J hiện tại\n",
    "        cost = computeCost(X,y,theta)\n",
    "        #so sánh với J của vòng lặp trước, so sánh 15 chữ số thập phân\n",
    "        if np.round(cost,15) == np.round(pre_cost,15):\n",
    "            #in ra vòng lặp hiện tại và J để dễ debug\n",
    "            print('Reach optima at I = %d ; J = %.6f' %(i,cost))\n",
    "            #thêm tất cả các index còn lại sau khi break\n",
    "            J_hist[i:,0] = range(i,iter)\n",
    "            #giá trị J sau khi break sẽ như cũ\n",
    "            J_hist[i:,1] = cost\n",
    "            #thoát vòng lặp\n",
    "            break\n",
    "        #cập nhật pre_cost\n",
    "        pre_cost = cost\n",
    "        #lưu lại index vòng lặp hiện tại\n",
    "        J_hist[i, 0] = i\n",
    "        #lưu lại J hiện tại\n",
    "        J_hist[i, 1] = cost\n",
    "    yield Theta\n",
    "    yield J_hist\n",
    "    \n",
    "raw = np.loadtxt('univariate.txt', delimiter = ',')\n",
    "#Tách lấy X\n",
    "X = np.copy(raw)\n",
    "X[:,1] = X[:,0]\n",
    "#thêm bias 1\n",
    "X[:,0] = 1\n",
    "#Tách lấy y\n",
    "y = raw[:,1]\n",
    "#Train data\n",
    "X = np.copy(raw)\n",
    "X[:,1] = X[:,0]\n",
    "#thêm bias 1\n",
    "X[:,0] = 1\n",
    "#Tách lấy y\n",
    "y = raw[:,1]\n",
    "#Train data\n",
    "[Theta, J_hist] = GradientDescent(X,y)#mặc định alpha = 0.02 iter = 5000\n",
    "Theta = Theta\n",
    "J_hist = J_hist\n",
    "#Predict\n",
    "predict = predict(X,Theta) * 10000#chuyển về đơn vị người\n",
    "#Plot kết quả\n",
    "plt.figure(1)\n",
    "plt.plot(X[:,1],y,'rx')\n",
    "plt.plot(X[:,1],predict/10000,'-b') #đơn vị gốc: nghìn người\n",
    "plt.figure(2)\n",
    "plt.plot(J_hist[:,0],J_hist[:,1],'-r')\n",
    "plt.show() #chỉ gọi 1 lần trong chương trình để hiển thị các biểu đồ cùng lúc"
   ]
  },
  {
   "cell_type": "code",
   "execution_count": null,
   "metadata": {},
   "outputs": [],
   "source": []
  },
  {
   "cell_type": "code",
   "execution_count": null,
   "metadata": {},
   "outputs": [],
   "source": []
  },
  {
   "cell_type": "code",
   "execution_count": null,
   "metadata": {},
   "outputs": [],
   "source": []
  }
 ],
 "metadata": {
  "kernelspec": {
   "display_name": "Python 3",
   "language": "python",
   "name": "python3"
  },
  "language_info": {
   "codemirror_mode": {
    "name": "ipython",
    "version": 3
   },
   "file_extension": ".py",
   "mimetype": "text/x-python",
   "name": "python",
   "nbconvert_exporter": "python",
   "pygments_lexer": "ipython3",
   "version": "3.8.3"
  }
 },
 "nbformat": 4,
 "nbformat_minor": 4
}
