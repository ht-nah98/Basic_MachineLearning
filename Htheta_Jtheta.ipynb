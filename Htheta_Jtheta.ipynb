{
 "cells": [
  {
   "cell_type": "code",
   "execution_count": 66,
   "metadata": {},
   "outputs": [],
   "source": [
    "import numpy as np"
   ]
  },
  {
   "cell_type": "code",
   "execution_count": 67,
   "metadata": {},
   "outputs": [],
   "source": [
    "import numpy as np  \n",
    "import matplotlib.pyplot as plt #thư viện vẽ biểu đồ\n"
   ]
  },
  {
   "cell_type": "code",
   "execution_count": 68,
   "metadata": {},
   "outputs": [],
   "source": [
    "def predict(X,Theta):\n",
    "    # Nhân 2 matrix\n",
    "    return X@Theta\n",
    "\n",
    "# first way using sum\n",
    "def computeCost(X,y,Theta):\n",
    "    predicted = predict(X,Theta)\n",
    "    # sai số\n",
    "    sqr_error = (predicted - y) ** 2\n",
    "    sum_error = np.sum(sqr_error)\n",
    "    m = np.size(y)\n",
    "    Jtheta = (1/(2*m)) * sum_error\n",
    "    return Jtheta\n",
    "\n",
    "# second way using inverse matrix\n",
    "def computeCost_Vec(X,y,Theta):\n",
    "    error = predict(X,Theta) - y\n",
    "    m = np.size(y)\n",
    "    Jtheta = (1/(2*m))*np.transpose(error)@error\n",
    "    return Jtheta"
   ]
  },
  {
   "cell_type": "code",
   "execution_count": 69,
   "metadata": {},
   "outputs": [],
   "source": [
    "#-----------------------------"
   ]
  },
  {
   "cell_type": "markdown",
   "metadata": {},
   "source": [
    "# Gradient Descent --- Jtheta min"
   ]
  },
  {
   "cell_type": "code",
   "execution_count": 70,
   "metadata": {},
   "outputs": [],
   "source": [
    "def GradientDescent(X,y,alpha=0.02,iter=5000): #giá trị mặc định của alpha là 0.02, iter (số vòng lặp tối đa) là 5000\n",
    "    #Giá trị ban đầu của theta = 0\n",
    "    theta = np.zeros(np.size(X,1)) #số lượng theta bằng số cột của X\n",
    "    #array lưu lại các giá trị J trong quá trình lặp\n",
    "    J_hist = np.zeros((iter,2)) # kích thước là iter*2, cột đầu chỉ là các số từ 1 đến iter để tiện cho việc plot. Kích thước được truyền vào qua một tupple\n",
    "    #kích thước của training set\n",
    "    m = np.size(y)\n",
    "    #ma trận ngược (đảo hàng và cột) của X\n",
    "    X_T = np.transpose(X)\n",
    "    #biến tạm để kiểm tra tiến độ Gradient Descent\n",
    "    pre_cost = computeCost(X,y,theta)\n",
    "    for i in range(0,iter):\n",
    "        error = predict(X,theta) - y\n",
    "        #thực hiện gradient descent để thay đổi theta\n",
    "        theta = theta - (alpha/m)*(X_T @ error)\n",
    "        #tính J hiện tại\n",
    "        cost = computeCost(X,y,theta)\n",
    "        #so sánh với J của vòng lặp trước, so sánh 15 chữ số thập phân\n",
    "        if np.round(cost,15) == np.round(pre_cost,15):\n",
    "            #in ra vòng lặp hiện tại và J để dễ debug\n",
    "            print('Reach optima at I = %d ; J = %.6f' %(i,cost))\n",
    "            #thêm tất cả các index còn lại sau khi break\n",
    "            J_hist[i:,0] = range(i,iter)\n",
    "            #giá trị J sau khi break sẽ như cũ\n",
    "            J_hist[i:,1] = cost\n",
    "            #thoát vòng lặp\n",
    "            break\n",
    "        #cập nhật pre_cost\n",
    "        pre_cost = cost\n",
    "        #lưu lại index vòng lặp hiện tại\n",
    "        J_hist[i, 0] = i\n",
    "        #lưu lại J hiện tại\n",
    "        J_hist[i, 1] = cost\n",
    "    yield theta\n",
    "    yield J_hist\n"
   ]
  },
  {
   "cell_type": "code",
   "execution_count": 72,
   "metadata": {},
   "outputs": [
    {
     "ename": "TypeError",
     "evalue": "'numpy.ndarray' object is not callable",
     "output_type": "error",
     "traceback": [
      "\u001b[1;31m---------------------------------------------------------------------------\u001b[0m",
      "\u001b[1;31mTypeError\u001b[0m                                 Traceback (most recent call last)",
      "\u001b[1;32m<ipython-input-72-f8f2f1f053eb>\u001b[0m in \u001b[0;36m<module>\u001b[1;34m\u001b[0m\n\u001b[0;32m     15\u001b[0m \u001b[0my\u001b[0m \u001b[1;33m=\u001b[0m \u001b[0mraw\u001b[0m\u001b[1;33m[\u001b[0m\u001b[1;33m:\u001b[0m\u001b[1;33m,\u001b[0m\u001b[1;36m1\u001b[0m\u001b[1;33m]\u001b[0m\u001b[1;33m\u001b[0m\u001b[1;33m\u001b[0m\u001b[0m\n\u001b[0;32m     16\u001b[0m \u001b[1;31m#Train data\u001b[0m\u001b[1;33m\u001b[0m\u001b[1;33m\u001b[0m\u001b[1;33m\u001b[0m\u001b[0m\n\u001b[1;32m---> 17\u001b[1;33m \u001b[1;33m[\u001b[0m\u001b[0mTheta\u001b[0m\u001b[1;33m,\u001b[0m \u001b[0mJ_hist\u001b[0m\u001b[1;33m]\u001b[0m \u001b[1;33m=\u001b[0m \u001b[0mGradientDescent\u001b[0m\u001b[1;33m(\u001b[0m\u001b[0mX\u001b[0m\u001b[1;33m,\u001b[0m\u001b[0my\u001b[0m\u001b[1;33m)\u001b[0m\u001b[1;31m#mặc định alpha = 0.02 iter = 5000\u001b[0m\u001b[1;33m\u001b[0m\u001b[1;33m\u001b[0m\u001b[0m\n\u001b[0m\u001b[0;32m     18\u001b[0m \u001b[1;31m#Predict\u001b[0m\u001b[1;33m\u001b[0m\u001b[1;33m\u001b[0m\u001b[1;33m\u001b[0m\u001b[0m\n\u001b[0;32m     19\u001b[0m \u001b[0mpredict\u001b[0m \u001b[1;33m=\u001b[0m \u001b[0mpredict\u001b[0m\u001b[1;33m(\u001b[0m\u001b[0mX\u001b[0m\u001b[1;33m,\u001b[0m\u001b[0mTheta\u001b[0m\u001b[1;33m)\u001b[0m \u001b[1;33m*\u001b[0m \u001b[1;36m10000\u001b[0m\u001b[1;31m#chuyển về đơn vị người\u001b[0m\u001b[1;33m\u001b[0m\u001b[1;33m\u001b[0m\u001b[0m\n",
      "\u001b[1;32m<ipython-input-70-a66d5c663dd3>\u001b[0m in \u001b[0;36mGradientDescent\u001b[1;34m(X, y, alpha, iter)\u001b[0m\n\u001b[0;32m      9\u001b[0m     \u001b[0mX_T\u001b[0m \u001b[1;33m=\u001b[0m \u001b[0mnp\u001b[0m\u001b[1;33m.\u001b[0m\u001b[0mtranspose\u001b[0m\u001b[1;33m(\u001b[0m\u001b[0mX\u001b[0m\u001b[1;33m)\u001b[0m\u001b[1;33m\u001b[0m\u001b[1;33m\u001b[0m\u001b[0m\n\u001b[0;32m     10\u001b[0m     \u001b[1;31m#biến tạm để kiểm tra tiến độ Gradient Descent\u001b[0m\u001b[1;33m\u001b[0m\u001b[1;33m\u001b[0m\u001b[1;33m\u001b[0m\u001b[0m\n\u001b[1;32m---> 11\u001b[1;33m     \u001b[0mpre_cost\u001b[0m \u001b[1;33m=\u001b[0m \u001b[0mcomputeCost\u001b[0m\u001b[1;33m(\u001b[0m\u001b[0mX\u001b[0m\u001b[1;33m,\u001b[0m\u001b[0my\u001b[0m\u001b[1;33m,\u001b[0m\u001b[0mtheta\u001b[0m\u001b[1;33m)\u001b[0m\u001b[1;33m\u001b[0m\u001b[1;33m\u001b[0m\u001b[0m\n\u001b[0m\u001b[0;32m     12\u001b[0m     \u001b[1;32mfor\u001b[0m \u001b[0mi\u001b[0m \u001b[1;32min\u001b[0m \u001b[0mrange\u001b[0m\u001b[1;33m(\u001b[0m\u001b[1;36m0\u001b[0m\u001b[1;33m,\u001b[0m\u001b[0miter\u001b[0m\u001b[1;33m)\u001b[0m\u001b[1;33m:\u001b[0m\u001b[1;33m\u001b[0m\u001b[1;33m\u001b[0m\u001b[0m\n\u001b[0;32m     13\u001b[0m         \u001b[0merror\u001b[0m \u001b[1;33m=\u001b[0m \u001b[0mpredict\u001b[0m\u001b[1;33m(\u001b[0m\u001b[0mX\u001b[0m\u001b[1;33m,\u001b[0m\u001b[0mtheta\u001b[0m\u001b[1;33m)\u001b[0m \u001b[1;33m-\u001b[0m \u001b[0my\u001b[0m\u001b[1;33m\u001b[0m\u001b[1;33m\u001b[0m\u001b[0m\n",
      "\u001b[1;32m<ipython-input-68-31ff53a7e072>\u001b[0m in \u001b[0;36mcomputeCost\u001b[1;34m(X, y, Theta)\u001b[0m\n\u001b[0;32m      5\u001b[0m \u001b[1;31m# first way using sum\u001b[0m\u001b[1;33m\u001b[0m\u001b[1;33m\u001b[0m\u001b[1;33m\u001b[0m\u001b[0m\n\u001b[0;32m      6\u001b[0m \u001b[1;32mdef\u001b[0m \u001b[0mcomputeCost\u001b[0m\u001b[1;33m(\u001b[0m\u001b[0mX\u001b[0m\u001b[1;33m,\u001b[0m\u001b[0my\u001b[0m\u001b[1;33m,\u001b[0m\u001b[0mTheta\u001b[0m\u001b[1;33m)\u001b[0m\u001b[1;33m:\u001b[0m\u001b[1;33m\u001b[0m\u001b[1;33m\u001b[0m\u001b[0m\n\u001b[1;32m----> 7\u001b[1;33m     \u001b[0mpredicted\u001b[0m \u001b[1;33m=\u001b[0m \u001b[0mpredict\u001b[0m\u001b[1;33m(\u001b[0m\u001b[0mX\u001b[0m\u001b[1;33m,\u001b[0m\u001b[0mTheta\u001b[0m\u001b[1;33m)\u001b[0m\u001b[1;33m\u001b[0m\u001b[1;33m\u001b[0m\u001b[0m\n\u001b[0m\u001b[0;32m      8\u001b[0m     \u001b[1;31m# sai số\u001b[0m\u001b[1;33m\u001b[0m\u001b[1;33m\u001b[0m\u001b[1;33m\u001b[0m\u001b[0m\n\u001b[0;32m      9\u001b[0m     \u001b[0msqr_error\u001b[0m \u001b[1;33m=\u001b[0m \u001b[1;33m(\u001b[0m\u001b[0mpredicted\u001b[0m \u001b[1;33m-\u001b[0m \u001b[0my\u001b[0m\u001b[1;33m)\u001b[0m \u001b[1;33m**\u001b[0m \u001b[1;36m2\u001b[0m\u001b[1;33m\u001b[0m\u001b[1;33m\u001b[0m\u001b[0m\n",
      "\u001b[1;31mTypeError\u001b[0m: 'numpy.ndarray' object is not callable"
     ]
    }
   ],
   "source": [
    "raw = np.loadtxt('univariate.txt', delimiter = ',')\n",
    "#Tách lấy X\n",
    "X = np.copy(raw)\n",
    "X[:,1] = X[:,0]\n",
    "#thêm bias 1\n",
    "X[:,0] = 1\n",
    "#Tách lấy y\n",
    "y = raw[:,1]\n",
    "#Train data\n",
    "X = np.copy(raw)\n",
    "X[:,1] = X[:,0]\n",
    "#thêm bias 1\n",
    "X[:,0] = 1\n",
    "#Tách lấy y\n",
    "y = raw[:,1]\n",
    "#Train data\n",
    "[Theta, J_hist] = GradientDescent(X,y)#mặc định alpha = 0.02 iter = 5000\n",
    "#Predict\n",
    "predict = predict(X,Theta) * 10000#chuyển về đơn vị người\n",
    "#Plot kết quả\n",
    "plt.figure(1)\n",
    "plt.plot(X[:,1],y,'rx')\n",
    "plt.plot(X[:,1],predict/10000,'-b') #đơn vị gốc: nghìn người\n",
    "plt.figure(2)\n",
    "plt.plot(J_hist[:,0],J_hist[:,1],'-r')\n",
    "plt.show() #chỉ gọi 1 lần trong chương trình để hiển thị các biểu đồ cùng lúc\n",
    "\n"
   ]
  },
  {
   "cell_type": "code",
   "execution_count": null,
   "metadata": {},
   "outputs": [],
   "source": []
  },
  {
   "cell_type": "code",
   "execution_count": null,
   "metadata": {},
   "outputs": [],
   "source": []
  }
 ],
 "metadata": {
  "kernelspec": {
   "display_name": "Python 3",
   "language": "python",
   "name": "python3"
  },
  "language_info": {
   "codemirror_mode": {
    "name": "ipython",
    "version": 3
   },
   "file_extension": ".py",
   "mimetype": "text/x-python",
   "name": "python",
   "nbconvert_exporter": "python",
   "pygments_lexer": "ipython3",
   "version": "3.8.3"
  }
 },
 "nbformat": 4,
 "nbformat_minor": 4
}
