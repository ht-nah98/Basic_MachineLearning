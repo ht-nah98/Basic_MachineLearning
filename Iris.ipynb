{
  "nbformat": 4,
  "nbformat_minor": 0,
  "metadata": {
    "colab": {
      "name": "New_Iris.ipynb",
      "provenance": [],
      "collapsed_sections": []
    },
    "kernelspec": {
      "name": "python3",
      "display_name": "Python 3"
    },
    "language_info": {
      "name": "python"
    }
  },
  "cells": [
    {
      "cell_type": "code",
      "metadata": {
        "id": "rzcEu--W1GkX"
      },
      "source": [
        "# Libraries import\n",
        "import numpy as np\n",
        "import pandas as pd\n",
        "import math\n",
        "\n",
        "import matplotlib.pyplot as plt\n",
        "\n",
        "from sklearn import datasets\n",
        "from sklearn.metrics import precision_recall_fscore_support,precision_recall_curve,log_loss\n",
        "from sklearn.model_selection import train_test_split\n",
        "from sklearn.linear_model import LogisticRegression"
      ],
      "execution_count": 1,
      "outputs": []
    },
    {
      "cell_type": "code",
      "metadata": {
        "id": "Rg3HTGI9xwVz"
      },
      "source": [
        "SEED = 42"
      ],
      "execution_count": 2,
      "outputs": []
    },
    {
      "cell_type": "markdown",
      "metadata": {
        "id": "jg1Vo7anXUTk"
      },
      "source": [
        "# Data analysis"
      ]
    },
    {
      "cell_type": "code",
      "metadata": {
        "id": "ntsVv-923AzD"
      },
      "source": [
        "# Load iris dataset\n",
        "iris = datasets.load_iris()"
      ],
      "execution_count": 3,
      "outputs": []
    },
    {
      "cell_type": "code",
      "metadata": {
        "id": "WAoZiLtE3siY"
      },
      "source": [
        "# Print a brief description\n",
        "print(iris.DESCR)"
      ],
      "execution_count": null,
      "outputs": []
    },
    {
      "cell_type": "code",
      "metadata": {
        "id": "7_CeSq0h35DO"
      },
      "source": [
        "# Print the iris features\n",
        "iris.feature_names"
      ],
      "execution_count": null,
      "outputs": []
    },
    {
      "cell_type": "code",
      "metadata": {
        "id": "ah9nDMsC4BDA"
      },
      "source": [
        "# Print the iris targets\n",
        "iris.target"
      ],
      "execution_count": null,
      "outputs": []
    },
    {
      "cell_type": "code",
      "metadata": {
        "id": "D6VnwbX-4LAN"
      },
      "source": [
        "# Print iris data\n",
        "iris.data"
      ],
      "execution_count": null,
      "outputs": []
    },
    {
      "cell_type": "code",
      "metadata": {
        "id": "BDpppQJ34bnu"
      },
      "source": [
        "# Create a dataframe object\n",
        "df = pd.DataFrame(iris.data)\n",
        "df.columns = iris.feature_names\n",
        "\n",
        "df[\"class\"] = iris.target"
      ],
      "execution_count": 8,
      "outputs": []
    },
    {
      "cell_type": "code",
      "metadata": {
        "id": "NYP4-w4F48ZE"
      },
      "source": [
        "# Plot features histograms\n",
        "df.hist()"
      ],
      "execution_count": null,
      "outputs": []
    },
    {
      "cell_type": "code",
      "metadata": {
        "id": "UO-DPPdl5KL1"
      },
      "source": [
        "# Print features correlations\n",
        "df.corr()"
      ],
      "execution_count": null,
      "outputs": []
    },
    {
      "cell_type": "code",
      "metadata": {
        "id": "81G636h-6Alb"
      },
      "source": [
        "#Plot the sepal features\n",
        "df.plot(kind=\"scatter\", x=\"sepal length (cm)\", y=\"sepal width (cm)\", c = iris.target, cmap = plt.get_cmap(\"rainbow\"),figsize=(10,10),colorbar=False)\n"
      ],
      "execution_count": null,
      "outputs": []
    },
    {
      "cell_type": "code",
      "metadata": {
        "id": "JFWq6Elw7MA9"
      },
      "source": [
        "# Plot petal features\n",
        "df.plot(kind=\"scatter\", x=\"petal length (cm)\", y=\"petal width (cm)\", c = iris.target, cmap = plt.get_cmap(\"rainbow\"),figsize=(10,10),colorbar=False)"
      ],
      "execution_count": null,
      "outputs": []
    },
    {
      "cell_type": "code",
      "metadata": {
        "id": "RpCP1aTw7hKf"
      },
      "source": [
        "# Get the data\n",
        "X = iris.data\n",
        "Y = iris.target"
      ],
      "execution_count": 13,
      "outputs": []
    },
    {
      "cell_type": "code",
      "metadata": {
        "id": "ZdAk4sx17oSV"
      },
      "source": [
        "# Virginica vs others (1 if Virginica ) (0 if Not Virginica)\n",
        "\n",
        "# Change the Y target to binary\n",
        "Y = (iris.target == 2).astype(int)"
      ],
      "execution_count": 14,
      "outputs": []
    },
    {
      "cell_type": "code",
      "metadata": {
        "id": "mUgRFLp38Tii"
      },
      "source": [
        "# Check the new Y\n",
        "Y"
      ],
      "execution_count": null,
      "outputs": []
    },
    {
      "cell_type": "markdown",
      "metadata": {
        "id": "mtl8WDIhHfdW"
      },
      "source": [
        "# Logistic regression with one feature"
      ]
    },
    {
      "cell_type": "code",
      "metadata": {
        "id": "96RvEaH-8XS6"
      },
      "source": [
        "# We will use only one feature (petal width) which is the most correlated with the classes\n",
        "X = iris.data[:,3]"
      ],
      "execution_count": 16,
      "outputs": []
    },
    {
      "cell_type": "code",
      "metadata": {
        "id": "w7VdFMsu8008"
      },
      "source": [
        "# Check the new X\n",
        "X"
      ],
      "execution_count": null,
      "outputs": []
    },
    {
      "cell_type": "code",
      "metadata": {
        "id": "F7oVKbAt87p1"
      },
      "source": [
        "# Plot the feature and the classes\n",
        "plt.scatter(X[Y==0],Y[Y==0], label=\"Not Virginica\",marker=\"s\")\n",
        "plt.scatter(X[Y==1],Y[Y==1], label=\"Virginica\",marker=\"^\")\n",
        "plt.xlabel(iris.feature_names[3])\n",
        "plt.ylabel(\"Class\")\n",
        "plt.legend(loc=\"best\")"
      ],
      "execution_count": null,
      "outputs": []
    },
    {
      "cell_type": "code",
      "metadata": {
        "id": "Nu2SydLW9u4C"
      },
      "source": [
        "# Train test split\n",
        "X_train,X_test,y_train,y_test = train_test_split(X,Y,test_size=0.2,random_state=SEED)"
      ],
      "execution_count": 19,
      "outputs": []
    },
    {
      "cell_type": "code",
      "metadata": {
        "id": "EPqQGgAZJEcR"
      },
      "source": [
        "# Train validation split\n",
        "X_train,X_val,y_train,y_val = train_test_split(X_train,y_train,test_size=0.1,random_state=SEED)"
      ],
      "execution_count": 20,
      "outputs": []
    },
    {
      "cell_type": "code",
      "metadata": {
        "id": "v3wHRGM4JY0u"
      },
      "source": [
        "def plot_learning_curves(model,X_train,y_train,X_val,y_val):\n",
        "  train_accuracies = []\n",
        "  val_accuracies = []\n",
        "  for m in range(1,len(X_train)):\n",
        "    tmp_X_train = X_train[:m]\n",
        "    tmp_y_train = y_train[:m]\n",
        "    try:\n",
        "      model.fit(tmp_X_train, tmp_y_train.ravel())\n",
        "      y_train_pred = model.predict(tmp_X_train)\n",
        "      y_val_pred = model.predict(X_val)\n",
        "      train_acc = model.score(tmp_X_train,tmp_y_train)\n",
        "      val_acc = model.score(X_val,y_val)\n",
        "      train_accuracies.append(train_acc)\n",
        "      val_accuracies.append(val_acc)\n",
        "    except:\n",
        "      pass\n",
        "\n",
        "  plt.plot(train_accuracies,linewidth=2, label=\"Train\")\n",
        "  plt.plot(val_accuracies,linewidth=2, label=\"Validation\")\n",
        "  plt.ylabel(\"Accuracy\", fontsize=14)\n",
        "  plt.xlabel(\"Training set size\", fontsize=14)\n",
        "  plt.legend(loc = \"best\")\n",
        "  plt.show()"
      ],
      "execution_count": 21,
      "outputs": []
    },
    {
      "cell_type": "code",
      "metadata": {
        "id": "3-i1tmC4-zmh"
      },
      "source": [
        "# Data reshape to fit sklearn models\n",
        "X_train = np.reshape(X_train,(-1,1))\n",
        "X_val = np.reshape(X_val,(-1,1))\n",
        "X_test = np.reshape(X_test,(-1,1))\n",
        "\n",
        "\n",
        "y_train = np.reshape(y_train,(-1,1))\n",
        "y_val = np.reshape(y_val,(-1,1)) \n",
        "y_test = np.reshape(y_test,(-1,1))"
      ],
      "execution_count": 22,
      "outputs": []
    },
    {
      "cell_type": "code",
      "metadata": {
        "id": "da7oBJqXJw4Q"
      },
      "source": [
        "log_reg = LogisticRegression()\n",
        "plot_learning_curves(log_reg,X_train,y_train,X_val,y_val)"
      ],
      "execution_count": null,
      "outputs": []
    },
    {
      "cell_type": "code",
      "metadata": {
        "id": "HjUHSOLt94yy"
      },
      "source": [
        "# Logistic regression\n",
        "log_reg = LogisticRegression(max_iter=1000,penalty='l2',C=1.0)\n",
        "log_reg.fit(X_train,y_train)"
      ],
      "execution_count": null,
      "outputs": []
    },
    {
      "cell_type": "code",
      "metadata": {
        "id": "-ZLgJtF__AW4"
      },
      "source": [
        "# Print the parameters\n",
        "print(log_reg.coef_)\n",
        "print(log_reg.intercept_)"
      ],
      "execution_count": null,
      "outputs": []
    },
    {
      "cell_type": "code",
      "metadata": {
        "id": "f3Bvak1wG0Jj"
      },
      "source": [
        "# model score on train set\n",
        "log_reg.score(X_train,y_train)"
      ],
      "execution_count": null,
      "outputs": []
    },
    {
      "cell_type": "code",
      "metadata": {
        "id": "rN1s9gHyG5Na"
      },
      "source": [
        "# model score on test set\n",
        "log_reg.score(X_test,y_test)"
      ],
      "execution_count": null,
      "outputs": []
    },
    {
      "cell_type": "code",
      "metadata": {
        "id": "ae0Ja1gQAzki"
      },
      "source": [
        "# Plot the feature and the classes with decision boundary\n",
        "\n",
        "# h = sigmoid(thetaTx)\n",
        "# h = 1 if thetaTx >= 0 h >= 0.5\n",
        "# h = 0 if thetaTx < 0\n",
        "\n",
        "\"\"\"\n",
        "theta_0 + theta_1*x1 = 0\n",
        "x1 = -theta_0/theta_1\n",
        "\"\"\"\n",
        "\n",
        "plt.scatter(X_train[y_train==0],y_train[y_train==0], label=\"Not Virginica\",marker=\"s\")\n",
        "plt.scatter(X_train[y_train==1],y_train[y_train==1], label=\"Virginica\",marker=\"^\")\n",
        "plt.axvline(-log_reg.intercept_/log_reg.coef_,c=\"r\",linestyle=\"--\",label=\"Decision boundary\")\n",
        "plt.xlabel(iris.feature_names[3])\n",
        "plt.ylabel(\"Class\")\n",
        "plt.legend(loc=\"best\")"
      ],
      "execution_count": null,
      "outputs": []
    },
    {
      "cell_type": "code",
      "metadata": {
        "id": "GZN3ymQlEM30"
      },
      "source": [
        "plt.scatter(X_test[y_test==0],y_test[y_test==0], label=\"Not Virginica\",marker=\"s\")\n",
        "plt.scatter(X_test[y_test==1],y_test[y_test==1], label=\"Virginica\",marker=\"^\")\n",
        "plt.axvline(-log_reg.intercept_/log_reg.coef_,c=\"r\",linestyle=\"--\",label=\"Decision boundary\")\n",
        "plt.xlabel(iris.feature_names[3])\n",
        "plt.ylabel(\"Class\")\n",
        "plt.legend(loc=\"best\")"
      ],
      "execution_count": null,
      "outputs": []
    },
    {
      "cell_type": "code",
      "metadata": {
        "id": "375rcsZcB529"
      },
      "source": [
        "# Plot logistic regression probabilities\n",
        "x = np.linspace(0,3,1000).reshape(-1,1)\n",
        "y_pred = log_reg.predict_proba(x)"
      ],
      "execution_count": 30,
      "outputs": []
    },
    {
      "cell_type": "code",
      "metadata": {
        "id": "YCK5JIG4Bthi"
      },
      "source": [
        "plt.scatter(X_train[y_train==0],y_train[y_train==0], label=\"Not Virginica\",marker=\"s\")\n",
        "plt.scatter(X_train[y_train==1],y_train[y_train==1], label=\"Virginica\",marker=\"^\")\n",
        "plt.axvline(-log_reg.intercept_/log_reg.coef_,c=\"r\",linestyle=\"--\",label=\"Decision boundary\")\n",
        "plt.xlabel(iris.feature_names[3])\n",
        "plt.plot(x,y_pred[:,1],\"g\") #probability of Virginica\n",
        "plt.plot(x,y_pred[:,0],\"black\") #probability of Not Virginica\n",
        "plt.ylabel(\"Class\")\n",
        "plt.legend(loc=\"best\")"
      ],
      "execution_count": null,
      "outputs": []
    },
    {
      "cell_type": "code",
      "metadata": {
        "id": "s7TaXP4WFfIx"
      },
      "source": [
        "plt.scatter(X_test[y_test==0],y_test[y_test==0], label=\"Not Virginica\",marker=\"s\")\n",
        "plt.scatter(X_test[y_test==1],y_test[y_test==1], label=\"Virginica\",marker=\"^\")\n",
        "plt.axvline(-log_reg.intercept_/log_reg.coef_,c=\"r\",linestyle=\"--\",label=\"Decision boundary\")\n",
        "plt.xlabel(iris.feature_names[3])\n",
        "plt.plot(x,y_pred[:,1],\"g\") #probability of Virginica\n",
        "plt.plot(x,y_pred[:,0],\"black\") #probability of Not Virginica\n",
        "plt.ylabel(\"Class\")\n",
        "plt.legend(loc=\"best\")"
      ],
      "execution_count": null,
      "outputs": []
    },
    {
      "cell_type": "code",
      "metadata": {
        "id": "8aRPFIBwFy3Y"
      },
      "source": [
        "# Precision recall curves to choose the best threshold\n",
        "y_prob = log_reg.predict_proba(X_train)\n",
        "precision,recall,thresholds =  precision_recall_curve(y_train,y_prob[:,1])\n",
        "\n",
        "plt.plot(thresholds,precision[:-1],label=\"Precision\",c=\"b\")\n",
        "plt.plot(thresholds,recall[:-1],label=\"Recall\",c=\"r\")\n",
        "plt.ylabel(\"Precision and Recall\")\n",
        "plt.xlabel(\"Threshold\")\n",
        "plt.legend(loc=\"lower left\")"
      ],
      "execution_count": null,
      "outputs": []
    },
    {
      "cell_type": "markdown",
      "metadata": {
        "id": "I1jjNKHQHrAO"
      },
      "source": [
        "# Logistic regression with two features"
      ]
    },
    {
      "cell_type": "code",
      "metadata": {
        "id": "4cXMVdbBHwdT"
      },
      "source": [
        "# We will use now two features (petal length and petal width)\n",
        "X = iris.data[:,[2,3]]"
      ],
      "execution_count": 34,
      "outputs": []
    },
    {
      "cell_type": "code",
      "metadata": {
        "id": "ChYcjpEqIDgV"
      },
      "source": [
        "# Check the new X\n",
        "X"
      ],
      "execution_count": null,
      "outputs": []
    },
    {
      "cell_type": "code",
      "metadata": {
        "id": "VPT4VG_NIIHz"
      },
      "source": [
        "# Plot the new features and classes\n",
        "plt.xlabel(iris.feature_names[2])\n",
        "plt.ylabel(iris.feature_names[3])\n",
        "\n",
        "plt.plot(X[Y==0,0],X[Y==0,1],\"s\",label=\"Not Virginica\")\n",
        "plt.plot(X[Y==1,0],X[Y==1,1],\"^\",label=\"Virginica\")\n",
        "plt.legend(loc=\"upper left\")\n",
        "plt.axis([0,8,0,3])\n",
        "plt.show()"
      ],
      "execution_count": null,
      "outputs": []
    },
    {
      "cell_type": "code",
      "metadata": {
        "id": "ROLzSp6wN61X"
      },
      "source": [
        "X_train,X_test,y_train,y_test = train_test_split(X,Y,test_size=0.2,random_state=SEED)"
      ],
      "execution_count": 37,
      "outputs": []
    },
    {
      "cell_type": "code",
      "metadata": {
        "id": "oNOzukzwPRb2"
      },
      "source": [
        "X_train,X_val,y_train,y_val = train_test_split(X_train,y_train,test_size=0.1,random_state=SEED)"
      ],
      "execution_count": 38,
      "outputs": []
    },
    {
      "cell_type": "code",
      "metadata": {
        "id": "VQMPGnrWPasC"
      },
      "source": [
        "log_reg = LogisticRegression(max_iter=500)\n",
        "plot_learning_curves(log_reg,X_train,y_train,X_val,y_val)"
      ],
      "execution_count": null,
      "outputs": []
    },
    {
      "cell_type": "code",
      "metadata": {
        "id": "wn_W_EA5IzgY"
      },
      "source": [
        "log_reg = LogisticRegression(max_iter=500)\n",
        "log_reg.fit(X_train,y_train)"
      ],
      "execution_count": null,
      "outputs": []
    },
    {
      "cell_type": "code",
      "metadata": {
        "id": "TWvcnEefPoM0"
      },
      "source": [
        "log_reg.score(X_train,y_train)"
      ],
      "execution_count": null,
      "outputs": []
    },
    {
      "cell_type": "code",
      "metadata": {
        "id": "4YWVj4aHPs2j"
      },
      "source": [
        "log_reg.score(X_test,y_test)"
      ],
      "execution_count": null,
      "outputs": []
    },
    {
      "cell_type": "code",
      "metadata": {
        "id": "h5OHFb2ePwL3"
      },
      "source": [
        "# Plot the feature and the classes with decision boundary\n",
        "\"\"\"\n",
        "theta_0 + theta_1 * x1 + theta_2 * x2 = 0\n",
        "x2 = -(theta_1 * x1 + theta_0)/theta_2\n",
        "\"\"\"\n",
        "\n",
        "X1 = np.sort(X_train[:,0])\n",
        "\n",
        "plt.plot(X_train[y_train==0,0],X_train[y_train==0,1],\"s\",label=\"Not Virginica\")\n",
        "plt.plot(X_train[y_train==1,0],X_train[y_train==1,1],\"^\",label=\"Virginica\")\n",
        "boundary = -(log_reg.coef_[0][0]*X1+log_reg.intercept_[0])/log_reg.coef_[0][1]\n",
        "plt.plot(X1,boundary,\"r--\",linewidth=2,label=\"Decision boundary\")\n",
        "plt.legend(loc=\"upper left\")\n",
        "plt.axis([0,8,0,3])\n",
        "plt.show()\n"
      ],
      "execution_count": null,
      "outputs": []
    },
    {
      "cell_type": "code",
      "metadata": {
        "id": "fefU4HDtTAF8"
      },
      "source": [
        "plt.xlabel(iris.feature_names[2])\n",
        "plt.ylabel(iris.feature_names[3])\n",
        "\n",
        "X1 = np.sort(X_test[:,0])\n",
        "\n",
        "plt.plot(X_test[y_test==0,0],X_test[y_test==0,1],\"s\",label=\"Not Virginica\")\n",
        "plt.plot(X_test[y_test==1,0],X_test[y_test==1,1],\"^\",label=\"Virginica\")\n",
        "boundary = -(log_reg.coef_[0][0]*X1+log_reg.intercept_[0])/log_reg.coef_[0][1]\n",
        "plt.plot(X1,boundary,\"r--\",linewidth=2,label=\"Decision boundary\")\n",
        "plt.legend(loc=\"upper left\")\n",
        "plt.axis([0,8,0,3])\n",
        "plt.show()"
      ],
      "execution_count": null,
      "outputs": []
    },
    {
      "cell_type": "code",
      "metadata": {
        "id": "54LXIIdNRj0F"
      },
      "source": [
        "# Plot logistic regression probabilities\n",
        "x0,x1 = np.meshgrid(np.linspace(0,8,200).reshape(-1,1),np.linspace(0,8,200).reshape(-1,1))\n",
        "x = np.c_[x0.ravel(),x1.ravel()]\n",
        "y_prob = log_reg.predict_proba(x)\n",
        "y_pred = log_reg.predict(x)\n",
        "zz = y_prob[:,1].reshape(x0.shape) # Probabilities of Virginica (use 0 to look at the probabilities of not being a Virginica)\n",
        "\n",
        "X1 = np.sort(X_train[:,0])\n",
        "\n",
        "plt.figure(figsize=(10,4))\n",
        "plt.xlabel(iris.feature_names[2])\n",
        "plt.ylabel(iris.feature_names[3])\n",
        "plt.plot(X_train[y_train==0,0],X_train[y_train==0,1],\"s\",label=\"Not Virginica\")\n",
        "plt.plot(X_train[y_train==1,0],X_train[y_train==1,1],\"^\",label=\"Virginica\")\n",
        "contour = plt.contour(x0,x1,zz,levels=[0.1,0.3,0.5,0.7,0.9],cmap=plt.cm.brg)\n",
        "plt.clabel(contour,inline=1,fontsize=12)\n",
        "#boundary = -(log_reg.coef_[0][0]*X1+log_reg.intercept_[0])/log_reg.coef_[0][1]\n",
        "#plt.plot(X1,boundary,\"r--\",linewidth=2,label=\"Decision boundary\")\n",
        "plt.legend(loc=\"upper right\")"
      ],
      "execution_count": null,
      "outputs": []
    },
    {
      "cell_type": "code",
      "metadata": {
        "id": "C8pPa3klWlQb"
      },
      "source": [
        "x0,x1 = np.meshgrid(np.linspace(0,8,200).reshape(-1,1),np.linspace(0,8,200).reshape(-1,1))\n",
        "x = np.c_[x0.ravel(),x1.ravel()]\n",
        "y_prob = log_reg.predict_proba(x)\n",
        "zz = y_prob[:,1].reshape(x0.shape) # Probabilities of Virginica\n",
        "\n",
        "X1 = np.sort(X_test[:,0])\n",
        "\n",
        "plt.figure(figsize=(10,4))\n",
        "plt.xlabel(iris.feature_names[2])\n",
        "plt.ylabel(iris.feature_names[3])\n",
        "plt.plot(X_test[y_test==0,0],X_test[y_test==0,1],\"s\",label=\"Not Virginica\")\n",
        "plt.plot(X_test[y_test==1,0],X_test[y_test==1,1],\"^\",label=\"Virginica\")\n",
        "contour = plt.contour(x0,x1,zz,levels=[0.1,0.3,0.5,0.7,0.9],cmap=plt.cm.brg)\n",
        "plt.clabel(contour,inline=1,fontsize=12)\n",
        "#boundary = -(log_reg.coef_[0][0]*X1+log_reg.intercept_[0])/log_reg.coef_[0][1]\n",
        "#plt.plot(X1,boundary,\"r--\",linewidth=2,label=\"Decision boundary\")\n",
        "plt.legend(loc=\"upper right\")"
      ],
      "execution_count": null,
      "outputs": []
    },
    {
      "cell_type": "code",
      "metadata": {
        "id": "Fqk8An8ddPB_"
      },
      "source": [
        "# Precision recall curves to choose the best threshold\n",
        "y_prob = log_reg.predict_proba(X_train)\n",
        "precision,recall,thresholds =  precision_recall_curve(y_train,y_prob[:,1])\n",
        "\n",
        "plt.plot(thresholds,precision[:-1],label=\"Precision\",c=\"b\")\n",
        "plt.plot(thresholds,recall[:-1],label=\"Recall\",c=\"r\")\n",
        "plt.ylabel(\"Precision and Recall\")\n",
        "plt.xlabel(\"Threshold\")\n",
        "plt.legend(loc=\"lower left\")"
      ],
      "execution_count": null,
      "outputs": []
    },
    {
      "cell_type": "markdown",
      "metadata": {
        "id": "UuA4jrLkW8MY"
      },
      "source": [
        "# Multiclass Logistic regression"
      ]
    },
    {
      "cell_type": "code",
      "metadata": {
        "id": "lWhRfUoaXHbT"
      },
      "source": [
        "# We are still using the petal length and petal width as features\n",
        "X = iris.data[:,[2,3]]\n",
        "Y = iris.target\n",
        "print(Y)\n",
        "# 0 Setosa 1 Versicolor 2 Virginica\n",
        "\n",
        "plt.figure(figsize=(10,4))\n",
        "\n",
        "plt.plot(X[Y==0,0],X[Y==0,1],\"s\",label=\"Setosa\")\n",
        "plt.plot(X[Y==1,0],X[Y==1,1],\"^\",label=\"Versicolor\")\n",
        "plt.plot(X[Y==2,0],X[Y==2,1],\"*\",label=\"Virginica\")\n",
        "plt.axis([0,8,0,3])\n",
        "plt.xlabel(iris.feature_names[2])\n",
        "plt.ylabel(iris.feature_names[3])\n",
        "plt.legend(loc=\"upper left\")\n",
        "plt.show()"
      ],
      "execution_count": null,
      "outputs": []
    },
    {
      "cell_type": "code",
      "metadata": {
        "id": "phBRHgRFZPWj"
      },
      "source": [
        "X_train,X_test,y_train,y_test = train_test_split(X,Y,test_size=0.1,random_state=SEED)"
      ],
      "execution_count": 49,
      "outputs": []
    },
    {
      "cell_type": "code",
      "metadata": {
        "id": "DgqDgmzfZT9-"
      },
      "source": [
        "X_train,X_val,y_train,y_val = train_test_split(X_train,y_train,test_size=0.05,random_state=SEED)"
      ],
      "execution_count": 50,
      "outputs": []
    },
    {
      "cell_type": "code",
      "metadata": {
        "id": "gg2BDDh6c0fB"
      },
      "source": [
        "log_reg = LogisticRegression(multi_class=\"multinomial\",max_iter=500)\n",
        "plot_learning_curves(log_reg,X_train,y_train,X_val,y_val)"
      ],
      "execution_count": null,
      "outputs": []
    },
    {
      "cell_type": "code",
      "metadata": {
        "id": "HqnIW3tKZUiZ"
      },
      "source": [
        "log_reg = LogisticRegression(multi_class=\"multinomial\")\n",
        "log_reg.fit(X_train,y_train)"
      ],
      "execution_count": null,
      "outputs": []
    },
    {
      "cell_type": "code",
      "metadata": {
        "id": "g4AOk1UYZiyI"
      },
      "source": [
        "log_reg.score(X_train,y_train)"
      ],
      "execution_count": null,
      "outputs": []
    },
    {
      "cell_type": "code",
      "metadata": {
        "id": "XRSWYpytZni7"
      },
      "source": [
        "log_reg.score(X_test,y_test)"
      ],
      "execution_count": null,
      "outputs": []
    },
    {
      "cell_type": "code",
      "metadata": {
        "id": "wIKK-h5xZqvw"
      },
      "source": [
        "# Plot logistic regression probabilities\n",
        "x0,x1 = np.meshgrid(np.linspace(0,8,500).reshape(-1,1),np.linspace(0,8,500).reshape(-1,1))\n",
        "x = np.c_[x0.ravel(),x1.ravel()]\n",
        "y_prob = log_reg.predict_proba(x)\n",
        "y_pred = log_reg.predict(x)\n",
        "zz = y_pred.reshape(x0.shape) # returns 0,1 or 2\n",
        "zz1 = y_prob[:,1].reshape(x0.shape) # Probabilities of Versicolor, changing the index will change also the contour lines (0 for setosa, 1 for Versicolor, 2 for Virginica)\n",
        "\n",
        "plt.figure(figsize=(10,8))\n",
        "plt.plot(X_train[y_train==0,0],X_train[y_train==0,1],\"s\",label=\"Setosa\")\n",
        "plt.plot(X_train[y_train==1,0],X_train[y_train==1,1],\"^\",label=\"Versicolor\")\n",
        "plt.plot(X_train[y_train==2,0],X_train[y_train==2,1],\"*\",label=\"Virginica\")\n",
        "\n",
        "from matplotlib.colors import ListedColormap\n",
        "c_map = ListedColormap([\"#a0faa0\",\"#9898ff\",\"#fafab0\"])\n",
        "\n",
        "plt.contourf(x0,x1,zz,cmap=c_map)\n",
        "contour = plt.contour(x0,x1,zz1,levels=[0.1,0.3,0.5,0.7,0.9],cmap=plt.cm.brg)\n",
        "plt.clabel(contour,inline=1,fontsize=12)\n",
        "plt.xlabel(iris.feature_names[2],fontsize=14)\n",
        "plt.ylabel(iris.feature_names[3],fontsize=14)\n",
        "plt.legend(loc=\"upper left\")"
      ],
      "execution_count": null,
      "outputs": []
    },
    {
      "cell_type": "code",
      "metadata": {
        "id": "eUgo4Hasboyy"
      },
      "source": [
        "x0,x1 = np.meshgrid(np.linspace(0,8,500).reshape(-1,1),np.linspace(0,8,500).reshape(-1,1))\n",
        "x = np.c_[x0.ravel(),x1.ravel()]\n",
        "y_prob = log_reg.predict_proba(x)\n",
        "y_pred = log_reg.predict(x)\n",
        "zz = y_pred.reshape(x0.shape)\n",
        "zz1 = y_prob[:,1].reshape(x0.shape) # Probabilities of Versicolor, changing the index will change also the contour lines (0 for setosa, 1 for Versicolor, 2 for Virginica)\n",
        "\n",
        "plt.figure(figsize=(10,8))\n",
        "plt.plot(X_test[y_test==0,0],X_test[y_test==0,1],\"s\",label=\"Setosa\")\n",
        "plt.plot(X_test[y_test==1,0],X_test[y_test==1,1],\"^\",label=\"Versicolor\")\n",
        "plt.plot(X_test[y_test==2,0],X_test[y_test==2,1],\"*\",label=\"Virginica\")\n",
        "\n",
        "from matplotlib.colors import ListedColormap\n",
        "c_map = ListedColormap([\"#a0faa0\",\"#9898ff\",\"#fafab0\"])\n",
        "\n",
        "plt.contourf(x0,x1,zz,cmap=c_map)\n",
        "contour = plt.contour(x0,x1,zz1,levels=[0.1,0.3,0.5,0.7,0.9],cmap=plt.cm.brg)\n",
        "plt.clabel(contour,inline=1,fontsize=12)\n",
        "plt.xlabel(iris.feature_names[2],fontsize=14)\n",
        "plt.ylabel(iris.feature_names[3],fontsize=14)\n",
        "plt.legend(loc=\"upper left\")"
      ],
      "execution_count": null,
      "outputs": []
    },
    {
      "cell_type": "code",
      "metadata": {
        "id": "oLRMXqLegIZ0"
      },
      "source": [
        "precision_recall_fscore_support(y_test,log_reg.predict(X_test),average=\"macro\")"
      ],
      "execution_count": null,
      "outputs": []
    }
  ]
}