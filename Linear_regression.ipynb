{
 "cells": [
  {
   "cell_type": "code",
   "execution_count": 4,
   "metadata": {},
   "outputs": [],
   "source": [
    "import numpy as np\n",
    "import matplotlib.pyplot as plt"
   ]
  },
  {
   "cell_type": "code",
   "execution_count": 12,
   "metadata": {},
   "outputs": [
    {
     "name": "stdout",
     "output_type": "stream",
     "text": [
      "[[147]\n",
      " [150]\n",
      " [153]\n",
      " [158]\n",
      " [163]\n",
      " [165]\n",
      " [168]\n",
      " [170]\n",
      " [173]\n",
      " [175]\n",
      " [178]\n",
      " [180]\n",
      " [183]]\n"
     ]
    }
   ],
   "source": [
    "# implementaion data input and output\n",
    "# height(cmm)\n",
    "X = np.array([[147, 150, 153, 158, 163, 165, 168, 170, 173, 175, 178, 180, 183]]).T\n",
    "print(X)"
   ]
  },
  {
   "cell_type": "code",
   "execution_count": 13,
   "metadata": {},
   "outputs": [
    {
     "name": "stdout",
     "output_type": "stream",
     "text": [
      "[[49]\n",
      " [50]\n",
      " [51]\n",
      " [54]\n",
      " [58]\n",
      " [59]\n",
      " [60]\n",
      " [62]\n",
      " [63]\n",
      " [64]\n",
      " [66]\n",
      " [67]\n",
      " [68]]\n"
     ]
    }
   ],
   "source": [
    "# weight(kg)\n",
    "y = np.array([[49, 50, 51,  54, 58, 59, 60, 62, 63, 64, 66, 67, 68]]).T\n",
    "print(y)"
   ]
  },
  {
   "cell_type": "code",
   "execution_count": 16,
   "metadata": {},
   "outputs": [
    {
     "data": {
      "image/png": "[encoded data removed]",
      "text/plain": [
       "<Figure size 432x288 with 1 Axes>"
      ]
     },
     "metadata": {
      "needs_background": "light"
     },
     "output_type": "display_data"
    }
   ],
   "source": [
    "# draw graph - visualize data\n",
    "# plt.plot(data1, data2, kindofnode)\n",
    "plt.plot(X,y,'ro')\n",
    "# plt.axis([raneX, rangeY])\n",
    "plt.axis([140,190,45,75])\n",
    "\n",
    "plt.xlabel('Height (cm)')\n",
    "plt.ylabel('Weight (kg)')\n",
    "plt.show()"
   ]
  },
  {
   "cell_type": "markdown",
   "metadata": {},
   "source": [
    "=> Weight(kg) = w_1*(height) + w_0\n"
   ]
  },
  {
   "cell_type": "code",
   "execution_count": 17,
   "metadata": {},
   "outputs": [],
   "source": [
    "#--------------------------------------------------------------------------"
   ]
  },
  {
   "cell_type": "markdown",
   "metadata": {},
   "source": [
    "# Matrix dagger - when A non-singular or invertible"
   ]
  },
  {
   "cell_type": "code",
   "execution_count": 23,
   "metadata": {},
   "outputs": [
    {
     "name": "stdout",
     "output_type": "stream",
     "text": [
      "[[  1. 147.]\n",
      " [  1. 150.]\n",
      " [  1. 153.]\n",
      " [  1. 158.]\n",
      " [  1. 163.]\n",
      " [  1. 165.]\n",
      " [  1. 168.]\n",
      " [  1. 170.]\n",
      " [  1. 173.]\n",
      " [  1. 175.]\n",
      " [  1. 178.]\n",
      " [  1. 180.]\n",
      " [  1. 183.]]\n"
     ]
    }
   ],
   "source": [
    "# using numpy.linalg.pinv(A) to count dagger matrix\n",
    "# Building X bar\n",
    "one = np.ones((X.shape[0], 1))\n",
    "Xbar = np.concatenate((one, X), axis = 1)\n",
    "print(Xbar)"
   ]
  },
  {
   "cell_type": "code",
   "execution_count": 27,
   "metadata": {},
   "outputs": [
    {
     "name": "stdout",
     "output_type": "stream",
     "text": [
      "w=  [[-33.73541021]\n",
      " [  0.55920496]]\n"
     ]
    }
   ],
   "source": [
    "# caculating weight of the fitting line\n",
    "A = np.dot(Xbar.T, Xbar)\n",
    "b = np.dot(Xbar.T, y)\n",
    "w = np.dot(np.linalg.pinv(A),b)\n",
    "print('w= ', w)"
   ]
  },
  {
   "cell_type": "code",
   "execution_count": 33,
   "metadata": {},
   "outputs": [
    {
     "name": "stdout",
     "output_type": "stream",
     "text": [
      "-33.73541020578887\n",
      "0.5592049619395709\n",
      "[145. 185.]\n",
      "[47.34930928 69.71750775]\n"
     ]
    }
   ],
   "source": [
    "# Preparing the fitting line\n",
    "w_0 = w[0][0]\n",
    "w_1 = w[1][0]\n",
    "x0 = np.linspace(145, 185, 2)\n",
    "print(x0)\n",
    "y0 = w_0 + w_1*x0\n",
    "print(y0)"
   ]
  },
  {
   "cell_type": "code",
   "execution_count": 29,
   "metadata": {},
   "outputs": [
    {
     "data": {
      "image/png": "[encoded data removed]",
      "text/plain": [
       "<Figure size 432x288 with 1 Axes>"
      ]
     },
     "metadata": {
      "needs_background": "light"
     },
     "output_type": "display_data"
    }
   ],
   "source": [
    "# Drawing the fitting line \n",
    "plt.plot(X.T, y.T, 'ro')     # data \n",
    "plt.plot(x0, y0)               # the fitting line\n",
    "plt.axis([140, 190, 45, 75])\n",
    "plt.xlabel('Height (cm)')\n",
    "plt.ylabel('Weight (kg)')\n",
    "plt.show()"
   ]
  },
  {
   "cell_type": "code",
   "execution_count": 30,
   "metadata": {},
   "outputs": [
    {
     "name": "stdout",
     "output_type": "stream",
     "text": [
      "Predict weight of person with height 155 cm: 52.94 (kg), real number: 52 (kg)\n",
      "Predict weight of person with height 160 cm: 55.74 (kg), real number: 56 (kg)\n"
     ]
    }
   ],
   "source": [
    "y1 = w_1*155 + w_0\n",
    "y2 = w_1*160 + w_0\n",
    "\n",
    "print( u'Predict weight of person with height 155 cm: %.2f (kg), real number: 52 (kg)'  %(y1) )\n",
    "print( u'Predict weight of person with height 160 cm: %.2f (kg), real number: 56 (kg)'  %(y2) )"
   ]
  },
  {
   "cell_type": "code",
   "execution_count": 35,
   "metadata": {},
   "outputs": [],
   "source": [
    "#-----------------------------------------------------"
   ]
  },
  {
   "cell_type": "markdown",
   "metadata": {},
   "source": [
    "# Using scikit-learn"
   ]
  },
  {
   "cell_type": "code",
   "execution_count": 36,
   "metadata": {},
   "outputs": [
    {
     "name": "stdout",
     "output_type": "stream",
     "text": [
      "Solution found by scikit-learn  :  [[-33.73541021   0.55920496]]\n",
      "Solution found by (5):  [[-33.73541021   0.55920496]]\n"
     ]
    }
   ],
   "source": [
    "from sklearn import datasets, linear_model\n",
    "\n",
    "# fit the model by Linear Regression\n",
    "regr = linear_model.LinearRegression(fit_intercept=False) # fit_intercept = False for calculating the bias\n",
    "regr.fit(Xbar, y)\n",
    "\n",
    "# Compare two results\n",
    "print( 'Solution found by scikit-learn  : ', regr.coef_ )\n",
    "print( 'Solution found by (5): ', w.T)"
   ]
  },
  {
   "cell_type": "code",
   "execution_count": null,
   "metadata": {},
   "outputs": [],
   "source": []
  }
 ],
 "metadata": {
  "kernelspec": {
   "display_name": "Python 3",
   "language": "python",
   "name": "python3"
  },
  "language_info": {
   "codemirror_mode": {
    "name": "ipython",
    "version": 3
   },
   "file_extension": ".py",
   "mimetype": "text/x-python",
   "name": "python",
   "nbconvert_exporter": "python",
   "pygments_lexer": "ipython3",
   "version": "3.8.3"
  }
 },
 "nbformat": 4,
 "nbformat_minor": 4
}
